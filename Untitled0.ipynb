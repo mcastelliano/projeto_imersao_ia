{
  "nbformat": 4,
  "nbformat_minor": 0,
  "metadata": {
    "colab": {
      "provenance": [],
      "authorship_tag": "ABX9TyOb0xhdETmWOPWLv7LXq94g",
      "include_colab_link": true
    },
    "kernelspec": {
      "name": "python3",
      "display_name": "Python 3"
    },
    "language_info": {
      "name": "python"
    }
  },
  "cells": [
    {
      "cell_type": "markdown",
      "metadata": {
        "id": "view-in-github",
        "colab_type": "text"
      },
      "source": [
        "<a href=\"https://colab.research.google.com/github/mcastelliano/projeto_imersao_ia/blob/main/Untitled0.ipynb\" target=\"_parent\"><img src=\"https://colab.research.google.com/assets/colab-badge.svg\" alt=\"Open In Colab\"/></a>"
      ]
    },
    {
      "cell_type": "markdown",
      "source": [
        "Instalando o SDK do Google"
      ],
      "metadata": {
        "id": "9Qn_k08kKDDe"
      }
    },
    {
      "cell_type": "code",
      "source": [
        "pip install -q -U google-generativeai"
      ],
      "metadata": {
        "id": "OevvpFYkKHoB"
      },
      "execution_count": 4,
      "outputs": []
    },
    {
      "cell_type": "code",
      "source": [
        "import google.generativeai as genai\n",
        "\n",
        "GOOGLE_API_KEY=\"XXXXXXXXXXXX\"\n",
        "genai.configure(api_key=GOOGLE_API_KEY)"
      ],
      "metadata": {
        "id": "1l6T7TqGKPFN"
      },
      "execution_count": 5,
      "outputs": []
    },
    {
      "cell_type": "markdown",
      "source": [
        "Listando os modelos disponíveis"
      ],
      "metadata": {
        "id": "EcdmZsIXKZjf"
      }
    },
    {
      "cell_type": "code",
      "source": [
        "for m in genai.list_models():\n",
        "  if 'generateContent' in m.supported_generation_methods:\n",
        "    print(m.name)"
      ],
      "metadata": {
        "colab": {
          "base_uri": "https://localhost:8080/",
          "height": 138
        },
        "id": "O4XpnTTbKdih",
        "outputId": "dbcb563a-e852-4258-8623-3fff8181d960"
      },
      "execution_count": 6,
      "outputs": [
        {
          "output_type": "stream",
          "name": "stdout",
          "text": [
            "models/gemini-1.0-pro\n",
            "models/gemini-1.0-pro-001\n",
            "models/gemini-1.0-pro-latest\n",
            "models/gemini-1.0-pro-vision-latest\n",
            "models/gemini-1.5-pro-latest\n",
            "models/gemini-pro\n",
            "models/gemini-pro-vision\n"
          ]
        }
      ]
    },
    {
      "cell_type": "code",
      "source": [
        "generate_config = {\n",
        "\t\"candidate_count\": 1,\n",
        "\t\"temperature\": 0.5,\n",
        "}"
      ],
      "metadata": {
        "id": "zxtSmxKbMM1-"
      },
      "execution_count": 7,
      "outputs": []
    },
    {
      "cell_type": "code",
      "source": [
        "safety_settings = {\n",
        "\t\"HARASSMENT\": \"BLOCK_NONE\",\n",
        "\t\"HATE\": \"BLOCK_NONE\",\n",
        "\t\"SEXUAL\": \"BLOCK_NONE\",\n",
        "\t\"DANGEROUS\": \"BLOCK_NONE\",\n",
        "}"
      ],
      "metadata": {
        "id": "bfoUC88dNHLR"
      },
      "execution_count": 8,
      "outputs": []
    },
    {
      "cell_type": "markdown",
      "source": [
        "Inicializando o modelo"
      ],
      "metadata": {
        "id": "jhkHAW_DORAm"
      }
    },
    {
      "cell_type": "code",
      "source": [
        "model = genai.GenerativeModel(model_name=\"gemini-1.0-pro\", generation_config=generate_config, safety_settings=safety_settings)"
      ],
      "metadata": {
        "id": "erZgzo9sOTWJ"
      },
      "execution_count": 12,
      "outputs": []
    },
    {
      "cell_type": "code",
      "source": [
        "response = model.generate_content(\"Vamos aprender conteudo sobre IA. Me dê sugestoes\")\n",
        "print(response.text)"
      ],
      "metadata": {
        "colab": {
          "base_uri": "https://localhost:8080/",
          "height": 954
        },
        "id": "YDtlTgzMQ4o_",
        "outputId": "c25f6f91-e167-4b1f-a54f-c4bf08637915"
      },
      "execution_count": 13,
      "outputs": [
        {
          "output_type": "stream",
          "name": "stdout",
          "text": [
            "**Conceitos Fundamentais**\n",
            "\n",
            "* O que é Inteligência Artificial (IA)?\n",
            "* Tipos de IA: IA Fraca, IA Forte, IA Geral\n",
            "* Aprendizado de Máquina, Aprendizado Profundo e Aprendizado por Reforço\n",
            "* Algoritmos de IA comuns, como Regressão, Classificação e Clustering\n",
            "\n",
            "**Aplicações da IA**\n",
            "\n",
            "* Processamento de Linguagem Natural (PNL)\n",
            "* Visão Computacional\n",
            "* Reconhecimento de Fala\n",
            "* Carros Autônomos\n",
            "* Assistentes Virtuais\n",
            "* Diagnóstico Médico\n",
            "\n",
            "**Benefícios e Desafios da IA**\n",
            "\n",
            "* Benefícios: Automação, Eficiência, Personalização\n",
            "* Desafios: Viés, Privacidade, Desemprego\n",
            "\n",
            "**Ética e Implicações Sociais da IA**\n",
            "\n",
            "* Viés algorítmico e discriminação\n",
            "* Privacidade e segurança de dados\n",
            "* Impacto no mercado de trabalho e na sociedade\n",
            "\n",
            "**Tendências e Avanços em IA**\n",
            "\n",
            "* IA Generativa (por exemplo, GPT-3, DALL-E 2)\n",
            "* IA Quântica\n",
            "* IA Explicável e Transparente\n",
            "* IA Responsável e Ética\n",
            "\n",
            "**Recursos para Aprendizagem**\n",
            "\n",
            "* Cursos online: Coursera, edX, Udacity\n",
            "* Livros: \"Inteligência Artificial: Uma Abordagem Moderna\", \"Aprendizado Profundo\"\n",
            "* Revistas e conferências: Nature, NeurIPS, ICML\n",
            "\n",
            "**Sugestões Específicas de Conteúdo**\n",
            "\n",
            "* **Artigos:**\n",
            "    * [O que é Inteligência Artificial?](https://www.ibm.com/topics/artificial-intelligence)\n",
            "    * [Aprendizado de Máquina vs. Aprendizado Profundo](https://www.coursera.org/specializations/machine-learning-deep-learning)\n",
            "    * [Ética da Inteligência Artificial](https://www.pewresearch.org/internet/2023/03/09/ethics-of-artificial-intelligence/)\n",
            "* **Vídeos:**\n",
            "    * [Inteligência Artificial Explicada Simplesmente](https://www.youtube.com/watch?v=z8i2Y09_880)\n",
            "    * [Como a IA Funciona](https://www.youtube.com/watch?v=wxm4J4Z30_Y)\n",
            "    * [O Futuro da IA](https://www.youtube.com/watch?v=9g5R9T16g9w)\n",
            "* **Podcasts:**\n",
            "    * [O Podcast da IA](https://www.theaicpodcast.com/)\n",
            "    * [Inteligência Artificial com Lex Fridman](https://lexfridman.com/ai/)\n",
            "    * [O Podcast do Aprendizado de Máquina](https://www.mlai.ai/)\n"
          ]
        }
      ]
    },
    {
      "cell_type": "markdown",
      "source": [
        "Criando o chat bot"
      ],
      "metadata": {
        "id": "G8YYN9zkRkzp"
      }
    },
    {
      "cell_type": "code",
      "source": [
        "chat = model.start_chat(history=[])"
      ],
      "metadata": {
        "id": "LLybc0ssRl2O"
      },
      "execution_count": 14,
      "outputs": []
    },
    {
      "cell_type": "code",
      "source": [
        "prompt = input(\"Esperando prompt: \")\n",
        "\n",
        "while prompt != \"fim\":\n",
        "\tresponse = chat.send_message(prompt)\n",
        "\tprint(\"Resposta: \", response.text, \"\\n\")\n",
        "\tprompt = input(\"Esperando prompt: \")"
      ],
      "metadata": {
        "colab": {
          "base_uri": "https://localhost:8080/",
          "height": 243
        },
        "id": "LDr5t5RgTpQM",
        "outputId": "bf8a01a4-c667-4a0c-d473-ba971bfb3abb"
      },
      "execution_count": 16,
      "outputs": [
        {
          "name": "stdout",
          "output_type": "stream",
          "text": [
            "Esperando prompt: Qual a capital do Japao?\n",
            "Resposta:  Tóquio \n",
            "\n",
            "Esperando prompt: Qual a comida tipica desse pais?\n",
            "Resposta:  Sushi \n",
            "\n",
            "Esperando prompt: O meu primo nasceu nessa cidade. Qual a nacionalidade dele?\n",
            "Resposta:  Japonesa \n",
            "\n",
            "Esperando prompt: Qual a populacao dessa cidade?\n",
            "Resposta:  13.960.236 (2023) \n",
            "\n",
            "Esperando prompt: fim\n"
          ]
        }
      ]
    },
    {
      "cell_type": "code",
      "source": [
        "chat.history"
      ],
      "metadata": {
        "id": "LRpAaaVbUiFH"
      },
      "execution_count": null,
      "outputs": []
    }
  ]
}